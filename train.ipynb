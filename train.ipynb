{
 "cells": [
  {
   "cell_type": "code",
   "execution_count": 1,
   "metadata": {},
   "outputs": [],
   "source": [
    "import json\n",
    "import spacy\n",
    "from nlp_utils import *\n",
    "import numpy as np\n",
    "\n",
    "import torch \n",
    "import torch.nn as nn \n",
    "from torch.utils.data import Dataset, DataLoader\n",
    "\n"
   ]
  },
  {
   "cell_type": "code",
   "execution_count": 2,
   "metadata": {},
   "outputs": [],
   "source": [
    "with open(\"data.json\", \"r\") as f:\n",
    "    data = json.load(f)[\"intents\"]\n",
    "    "
   ]
  },
  {
   "cell_type": "code",
   "execution_count": 3,
   "metadata": {},
   "outputs": [
    {
     "data": {
      "text/plain": [
       "22"
      ]
     },
     "execution_count": 3,
     "metadata": {},
     "output_type": "execute_result"
    }
   ],
   "source": [
    "len(data)"
   ]
  },
  {
   "attachments": {},
   "cell_type": "markdown",
   "metadata": {},
   "source": [
    "- dictionary \n"
   ]
  },
  {
   "cell_type": "code",
   "execution_count": 4,
   "metadata": {},
   "outputs": [],
   "source": [
    "data_set = []\n",
    "\n",
    "nlp = spacy.load(\"en_core_web_lg\")\n",
    "\n",
    "for intent in data:\n",
    "    tag = intent[\"intent\"]\n",
    "    for pattern in intent[\"text\"]:\n",
    "        w = tokenize_to_vec(pattern, nlp)\n",
    "        \n",
    "        data_set.append((w, tag))\n",
    "\n"
   ]
  },
  {
   "cell_type": "code",
   "execution_count": 5,
   "metadata": {},
   "outputs": [],
   "source": [
    "tag_translator = {}\n",
    "count = 0\n",
    "\n",
    "for (vec, tag) in data_set:\n",
    "    if tag not in tag_translator.keys():\n",
    "        tag_translator[tag] = count\n",
    "        count += 1 "
   ]
  },
  {
   "cell_type": "code",
   "execution_count": 6,
   "metadata": {},
   "outputs": [
    {
     "data": {
      "text/plain": [
       "{'Greeting': 0,\n",
       " 'GreetingResponse': 1,\n",
       " 'CourtesyGreeting': 2,\n",
       " 'CourtesyGreetingResponse': 3,\n",
       " 'CurrentHumanQuery': 4,\n",
       " 'NameQuery': 5,\n",
       " 'RealNameQuery': 6,\n",
       " 'TimeQuery': 7,\n",
       " 'Thanks': 8,\n",
       " 'NotTalking2U': 9,\n",
       " 'UnderstandQuery': 10,\n",
       " 'Shutup': 11,\n",
       " 'Swearing': 12,\n",
       " 'GoodBye': 13,\n",
       " 'CourtesyGoodBye': 14,\n",
       " 'WhoAmI': 15,\n",
       " 'Clever': 16,\n",
       " 'Gossip': 17,\n",
       " 'Jokes': 18,\n",
       " 'PodBayDoor': 19,\n",
       " 'PodBayDoorResponse': 20,\n",
       " 'SelfAware': 21}"
      ]
     },
     "execution_count": 6,
     "metadata": {},
     "output_type": "execute_result"
    }
   ],
   "source": [
    "tag_translator"
   ]
  },
  {
   "cell_type": "code",
   "execution_count": 7,
   "metadata": {},
   "outputs": [],
   "source": [
    "class ChatDataset(Dataset):\n",
    "    def __init__(self):\n",
    "        self.n_samples = len(data_set)\n",
    "        self.X_data = []\n",
    "        self.y_data = []\n",
    "        \n",
    "        for (words, tag) in data_set:\n",
    "            self.X_data.append(words)\n",
    "            self.y_data.append(tag_translator[tag])\n",
    "        self.X_data = np.array(self.X_data)\n",
    "        self.y_data = np.array(self.y_data)\n",
    "        \n",
    "    def __getitem__(self, index):\n",
    "        return self.X_data[index], self.y_data[index]\n",
    "    \n",
    "    def __len__(self):\n",
    "        return self.n_samples\n",
    "        "
   ]
  },
  {
   "cell_type": "code",
   "execution_count": null,
   "metadata": {},
   "outputs": [],
   "source": []
  },
  {
   "cell_type": "code",
   "execution_count": 12,
   "metadata": {},
   "outputs": [
    {
     "name": "stdout",
     "output_type": "stream",
     "text": [
      "epoch 10/500, loss=0.13082622\n",
      "epoch 20/500, loss=0.12956068\n",
      "epoch 30/500, loss=0.00431572\n",
      "epoch 40/500, loss=0.00629344\n",
      "epoch 50/500, loss=0.00214917\n",
      "epoch 60/500, loss=0.00173272\n",
      "epoch 70/500, loss=0.00181919\n",
      "epoch 80/500, loss=0.00122955\n",
      "epoch 90/500, loss=0.00034631\n",
      "epoch 100/500, loss=0.00011518\n",
      "epoch 110/500, loss=0.00067998\n",
      "epoch 120/500, loss=0.00022627\n",
      "epoch 130/500, loss=0.00005110\n",
      "epoch 140/500, loss=0.00055361\n",
      "epoch 150/500, loss=0.00060643\n",
      "epoch 160/500, loss=0.00003147\n",
      "epoch 170/500, loss=0.00001327\n",
      "epoch 180/500, loss=0.00025657\n",
      "epoch 190/500, loss=0.00002634\n",
      "epoch 200/500, loss=0.00013477\n",
      "epoch 210/500, loss=0.00153172\n",
      "epoch 220/500, loss=0.00126074\n",
      "epoch 230/500, loss=0.00002412\n",
      "epoch 240/500, loss=0.00000584\n",
      "epoch 250/500, loss=0.00013672\n",
      "epoch 260/500, loss=0.00003672\n",
      "epoch 270/500, loss=0.00001792\n",
      "epoch 280/500, loss=0.00002066\n",
      "epoch 290/500, loss=0.00013823\n",
      "epoch 300/500, loss=0.00000719\n",
      "epoch 310/500, loss=0.00002519\n",
      "epoch 320/500, loss=0.00010255\n",
      "epoch 330/500, loss=0.00000290\n",
      "epoch 340/500, loss=0.00000091\n",
      "epoch 350/500, loss=0.00000532\n",
      "epoch 360/500, loss=0.00002686\n",
      "epoch 370/500, loss=0.00022039\n",
      "epoch 380/500, loss=0.00002015\n",
      "epoch 390/500, loss=0.00000914\n",
      "epoch 400/500, loss=0.00002682\n",
      "epoch 410/500, loss=0.00002023\n",
      "epoch 420/500, loss=0.00000854\n",
      "epoch 430/500, loss=0.00004021\n",
      "epoch 440/500, loss=0.00002170\n",
      "epoch 450/500, loss=0.00010707\n",
      "epoch 460/500, loss=0.00000664\n",
      "epoch 470/500, loss=0.00000397\n",
      "epoch 480/500, loss=0.00000163\n",
      "epoch 490/500, loss=0.00000326\n",
      "epoch 500/500, loss=0.00000171\n",
      "final loss=0.00000171\n"
     ]
    }
   ],
   "source": [
    "# hyperparameters\n",
    "batch_size = 10\n",
    "input_size = 300\n",
    "hidden_size = 100\n",
    "num_classes = 22\n",
    "learning_rate = 0.001\n",
    "num_epochs = 500\n",
    "\n",
    "dataset = ChatDataset()\n",
    "train_loader = DataLoader(dataset=dataset, batch_size=batch_size, shuffle=True)\n",
    "\n",
    "\n",
    "device = torch.device(\"cuda\")\n",
    "\n",
    "\n",
    "\n",
    "\n",
    "model = NeuralNet(input_size, hidden_size, num_classes).to(device)\n",
    "\n",
    "criterion = nn.CrossEntropyLoss()\n",
    "optimizer = torch.optim.Adam(model.parameters(), lr=learning_rate)\n",
    "\n",
    "for epoch in range(num_epochs):\n",
    "    for (words, labels) in train_loader:\n",
    "        words = words.to(device)\n",
    "        labels = labels.to(dtype=torch.long).to(device)\n",
    "        \n",
    "        \n",
    "        outputs = model(words)\n",
    "        loss = criterion(outputs, labels)\n",
    "        \n",
    "        optimizer.zero_grad()\n",
    "        loss.backward()\n",
    "        optimizer.step()\n",
    "        \n",
    "    if (epoch+1) %10 == 0:\n",
    "        print(f\"epoch {epoch+1}/{num_epochs}, loss={loss.item():.8f}\")\n",
    "        \n",
    "              \n",
    "print(f\"final loss={loss.item():.8f}\")      "
   ]
  },
  {
   "cell_type": "code",
   "execution_count": 13,
   "metadata": {},
   "outputs": [],
   "source": [
    "save_data = {\n",
    "    \"model_state\": model.state_dict(),\n",
    "    \"input_size\": input_size,\n",
    "    \"hidden_size\": hidden_size,\n",
    "    \"num_classes\": num_classes,\n",
    "    \"tag_translator\": tag_translator\n",
    "}\n",
    "\n",
    "torch.save(save_data, \"model.save\")\n",
    "\n"
   ]
  },
  {
   "cell_type": "code",
   "execution_count": null,
   "metadata": {},
   "outputs": [],
   "source": []
  }
 ],
 "metadata": {
  "kernelspec": {
   "display_name": "base",
   "language": "python",
   "name": "python3"
  },
  "language_info": {
   "codemirror_mode": {
    "name": "ipython",
    "version": 3
   },
   "file_extension": ".py",
   "mimetype": "text/x-python",
   "name": "python",
   "nbconvert_exporter": "python",
   "pygments_lexer": "ipython3",
   "version": "3.7.15"
  },
  "orig_nbformat": 4,
  "vscode": {
   "interpreter": {
    "hash": "c1167e92537cce41ea14d51960ff1ea806f7312a9aa6fa52755eaf0bd3b06b5d"
   }
  }
 },
 "nbformat": 4,
 "nbformat_minor": 2
}
