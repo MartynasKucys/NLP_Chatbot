{
 "cells": [
  {
   "cell_type": "code",
   "execution_count": 46,
   "metadata": {},
   "outputs": [],
   "source": [
    "import json\n",
    "import spacy\n",
    "from nlp_utils import *\n",
    "import numpy as np\n",
    "\n",
    "import torch \n",
    "import torch.nn as nn \n",
    "from torch.utils.data import Dataset, DataLoader"
   ]
  },
  {
   "cell_type": "code",
   "execution_count": 47,
   "metadata": {},
   "outputs": [],
   "source": [
    "with open(\"data.json\", \"r\") as f:\n",
    "    data = json.load(f)[\"intents\"]\n",
    "    "
   ]
  },
  {
   "attachments": {},
   "cell_type": "markdown",
   "metadata": {},
   "source": [
    "- dictionary \n"
   ]
  },
  {
   "cell_type": "code",
   "execution_count": 48,
   "metadata": {},
   "outputs": [],
   "source": [
    "data_set = []\n",
    "\n",
    "nlp = spacy.load(\"en_core_web_lg\")\n",
    "\n",
    "for intent in data:\n",
    "    tag = intent[\"intent\"]\n",
    "    for pattern in intent[\"text\"]:\n",
    "        w = tokenize_to_vec(pattern, nlp)\n",
    "        \n",
    "        data_set.append((w, tag))\n",
    "\n"
   ]
  },
  {
   "cell_type": "code",
   "execution_count": 49,
   "metadata": {},
   "outputs": [],
   "source": [
    "tag_translator = {}\n",
    "count = 0\n",
    "\n",
    "for (vec, tag) in data_set:\n",
    "    if tag not in tag_translator.keys():\n",
    "        tag_translator[tag] = count\n",
    "        count += 1 "
   ]
  },
  {
   "cell_type": "code",
   "execution_count": 50,
   "metadata": {},
   "outputs": [
    {
     "data": {
      "text/plain": [
       "{'Greeting': 0,\n",
       " 'GreetingResponse': 1,\n",
       " 'CourtesyGreeting': 2,\n",
       " 'CourtesyGreetingResponse': 3,\n",
       " 'CurrentHumanQuery': 4,\n",
       " 'NameQuery': 5,\n",
       " 'RealNameQuery': 6,\n",
       " 'TimeQuery': 7,\n",
       " 'Thanks': 8,\n",
       " 'NotTalking2U': 9,\n",
       " 'UnderstandQuery': 10,\n",
       " 'Shutup': 11,\n",
       " 'Swearing': 12,\n",
       " 'GoodBye': 13,\n",
       " 'CourtesyGoodBye': 14,\n",
       " 'WhoAmI': 15,\n",
       " 'Clever': 16,\n",
       " 'Gossip': 17,\n",
       " 'Jokes': 18,\n",
       " 'PodBayDoor': 19,\n",
       " 'PodBayDoorResponse': 20,\n",
       " 'SelfAware': 21}"
      ]
     },
     "execution_count": 50,
     "metadata": {},
     "output_type": "execute_result"
    }
   ],
   "source": [
    "tag_translator"
   ]
  },
  {
   "cell_type": "code",
   "execution_count": 51,
   "metadata": {},
   "outputs": [],
   "source": [
    "class ChatDataset(Dataset):\n",
    "    def __init__(self):\n",
    "        self.n_samples = len(data_set)\n",
    "        self.X_data = []\n",
    "        self.y_data = []\n",
    "        \n",
    "        for (words, tag) in data_set:\n",
    "            self.X_data.append(words)\n",
    "            self.y_data.append(tag_translator[tag])\n",
    "        self.X_data = np.array(self.X_data)\n",
    "        self.y_data = np.array(self.y_data)\n",
    "        \n",
    "    def __getitem__(self, index):\n",
    "        return self.X_data[index], self.y_data[index]\n",
    "    \n",
    "    def __len__(self):\n",
    "        return self.n_samples\n",
    "        "
   ]
  },
  {
   "cell_type": "code",
   "execution_count": 52,
   "metadata": {},
   "outputs": [
    {
     "name": "stdout",
     "output_type": "stream",
     "text": [
      "epoch 10/60, loss=0.07633476\n",
      "epoch 20/60, loss=0.00022511\n",
      "epoch 30/60, loss=0.00000755\n",
      "epoch 40/60, loss=0.10469776\n",
      "epoch 50/60, loss=1.38555539\n",
      "epoch 60/60, loss=0.00778239\n",
      "final loss=0.00778239\n"
     ]
    }
   ],
   "source": [
    "# hyperparameters\n",
    "batch_size = 10\n",
    "input_size = 300\n",
    "hidden_size = 30\n",
    "num_classes = 22\n",
    "learning_rate = 0.01\n",
    "num_epochs = 60\n",
    "\n",
    "dataset = ChatDataset()\n",
    "train_loader = DataLoader(dataset=dataset, batch_size=batch_size, shuffle=True)\n",
    "\n",
    "\n",
    "device = torch.device(\"cuda\")\n",
    "model = NeuralNet(input_size, hidden_size, num_classes).to(device)\n",
    "\n",
    "criterion = nn.CrossEntropyLoss()\n",
    "optimizer = torch.optim.Adam(model.parameters(), lr=learning_rate)\n",
    "\n",
    "for epoch in range(num_epochs):\n",
    "    for (words, labels) in train_loader:\n",
    "        words = words.to(device)\n",
    "        labels = labels.to(dtype=torch.long).to(device)\n",
    "        \n",
    "        \n",
    "        outputs = model(words)\n",
    "        loss = criterion(outputs, labels)\n",
    "        \n",
    "        optimizer.zero_grad()\n",
    "        loss.backward()\n",
    "        optimizer.step()\n",
    "        \n",
    "    if (epoch+1) %10 == 0:\n",
    "        print(f\"epoch {epoch+1}/{num_epochs}, loss={loss.item():.8f}\")\n",
    "        \n",
    "              \n",
    "print(f\"final loss={loss.item():.8f}\")      "
   ]
  },
  {
   "cell_type": "code",
   "execution_count": 53,
   "metadata": {},
   "outputs": [],
   "source": [
    "save_data = {\n",
    "    \"model_state\": model.state_dict(),\n",
    "    \"input_size\": input_size,\n",
    "    \"hidden_size\": hidden_size,\n",
    "    \"num_classes\": num_classes,\n",
    "    \"tag_translator\": tag_translator\n",
    "}\n",
    "\n",
    "torch.save(save_data, \"model.save\")\n",
    "\n"
   ]
  }
 ],
 "metadata": {
  "kernelspec": {
   "display_name": "base",
   "language": "python",
   "name": "python3"
  },
  "language_info": {
   "codemirror_mode": {
    "name": "ipython",
    "version": 3
   },
   "file_extension": ".py",
   "mimetype": "text/x-python",
   "name": "python",
   "nbconvert_exporter": "python",
   "pygments_lexer": "ipython3",
   "version": "3.7.15"
  },
  "orig_nbformat": 4,
  "vscode": {
   "interpreter": {
    "hash": "c1167e92537cce41ea14d51960ff1ea806f7312a9aa6fa52755eaf0bd3b06b5d"
   }
  }
 },
 "nbformat": 4,
 "nbformat_minor": 2
}
